{
 "cells": [
  {
   "cell_type": "code",
   "execution_count": null,
   "id": "33d2bc1e-78cf-4857-9e4c-5cfd6f315e19",
   "metadata": {},
   "outputs": [],
   "source": [
    "import xarray"
   ]
  },
  {
   "cell_type": "code",
   "execution_count": null,
   "id": "0d27ada4-fde9-4d11-8ab5-9e614584b283",
   "metadata": {},
   "outputs": [],
   "source": [
    "ic = xarray.open_dataset('MOM_IC.nc')\n",
    "ic.Temp.sel(lath=-12, lonh=25, method='nearest').isel(Time=0).plot(y='Layer', yincrease=False);\n",
    "ic.Salt.sel(lath=-12, lonh=25, method='nearest').isel(Time=0).plot(y='Layer', yincrease=False);"
   ]
  },
  {
   "cell_type": "code",
   "execution_count": null,
   "id": "452aaa1a-5f69-44ec-8bfe-0650bc033802",
   "metadata": {},
   "outputs": [],
   "source": [
    "og = xarray.open_dataset('ocean_static.nc')\n",
    "og.deptho.plot();"
   ]
  },
  {
   "cell_type": "code",
   "execution_count": null,
   "id": "ffa72491-2006-4525-991b-a40382d16d4d",
   "metadata": {},
   "outputs": [],
   "source": [
    "od = xarray.open_dataset('ocean_daily.nc', decode_times=False)\n",
    "od.zos.isel(time=-1).plot();"
   ]
  }
 ],
 "metadata": {
  "kernelspec": {
   "display_name": "Python 3 (ipykernel)",
   "language": "python",
   "name": "python3"
  },
  "language_info": {
   "codemirror_mode": {
    "name": "ipython",
    "version": 3
   },
   "file_extension": ".py",
   "mimetype": "text/x-python",
   "name": "python",
   "nbconvert_exporter": "python",
   "pygments_lexer": "ipython3",
   "version": "3.11.5"
  }
 },
 "nbformat": 4,
 "nbformat_minor": 5
}
